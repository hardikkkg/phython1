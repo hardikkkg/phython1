{
 "cells": [
  {
   "cell_type": "code",
   "execution_count": 10,
   "id": "ea8288a2",
   "metadata": {},
   "outputs": [
    {
     "name": "stdout",
     "output_type": "stream",
     "text": [
      "20  *  4 = 4\n",
      "20  *  5 = 5\n",
      "20  *  6 = 6\n",
      "20  *  7 = 7\n",
      "20  *  8 = 8\n",
      "20  *  9 = 9\n",
      "20  *  10 = 10\n",
      "20  *  11 = 11\n",
      "20  *  12 = 12\n",
      "20  *  13 = 13\n",
      "20  *  14 = 14\n",
      "20  *  15 = 15\n",
      "20  *  16 = 16\n",
      "20  *  17 = 17\n",
      "20  *  18 = 18\n",
      "20  *  19 = 19\n",
      "20  *  20 = 20\n"
     ]
    }
   ],
   "source": [
    "i=20\n",
    "j=4\n",
    "while j<=20:\n",
    "    print(i,\" * \",j,\"=\",j*1)\n",
    "    j+=1"
   ]
  },
  {
   "cell_type": "code",
   "execution_count": 13,
   "id": "02053bf9",
   "metadata": {},
   "outputs": [
    {
     "name": "stdout",
     "output_type": "stream",
     "text": [
      "2\n",
      "3\n",
      "4\n",
      "5\n",
      "6\n",
      "7\n",
      "8\n",
      "9\n"
     ]
    }
   ],
   "source": [
    "i=2\n",
    "while(i<10):\n",
    "    print(i)\n",
    "    i+=1"
   ]
  },
  {
   "cell_type": "code",
   "execution_count": 1,
   "id": "e0e393e6",
   "metadata": {},
   "outputs": [
    {
     "ename": "TypeError",
     "evalue": "'tuple' object does not support item assignment",
     "output_type": "error",
     "traceback": [
      "\u001b[1;31m---------------------------------------------------------------------------\u001b[0m",
      "\u001b[1;31mTypeError\u001b[0m                                 Traceback (most recent call last)",
      "Cell \u001b[1;32mIn[1], line 3\u001b[0m\n\u001b[0;32m      1\u001b[0m \u001b[38;5;66;03m#truple\u001b[39;00m\n\u001b[0;32m      2\u001b[0m a\u001b[38;5;241m=\u001b[39m(\u001b[38;5;241m1\u001b[39m,\u001b[38;5;241m2\u001b[39m,\u001b[38;5;241m3\u001b[39m,\u001b[38;5;241m4\u001b[39m)\n\u001b[1;32m----> 3\u001b[0m a[\u001b[38;5;241m3\u001b[39m]\u001b[38;5;241m=\u001b[39m\u001b[38;5;241m9\u001b[39m\n\u001b[0;32m      4\u001b[0m \u001b[38;5;28mprint\u001b[39m(a)\n",
      "\u001b[1;31mTypeError\u001b[0m: 'tuple' object does not support item assignment"
     ]
    }
   ],
   "source": [
    "#truple\n",
    "a=(1,2,3,4)\n",
    "a[3]=9\n",
    "print(a)"
   ]
  },
  {
   "cell_type": "code",
   "execution_count": 4,
   "id": "7b1d0fc0",
   "metadata": {},
   "outputs": [
    {
     "name": "stdout",
     "output_type": "stream",
     "text": [
      "[1, 2, 3, 4]\n",
      "[1, 2, 8, 4]\n",
      "(1, 2, 8, 4)\n"
     ]
    }
   ],
   "source": [
    "b=1,2,3,4\n",
    "#print(type(b))\n",
    "#b[1]=9\n",
    "#print(b)\n",
    "e=list(b)\n",
    "print(e)\n",
    "e[2]=8\n",
    "print(e)\n",
    "r=tuple(e)\n",
    "print(r)"
   ]
  },
  {
   "cell_type": "code",
   "execution_count": 10,
   "id": "60bed9a6",
   "metadata": {},
   "outputs": [
    {
     "name": "stdout",
     "output_type": "stream",
     "text": [
      "30 * 1 = 30\n",
      "30 * 2 = 60\n",
      "30 * 3 = 90\n",
      "30 * 4 = 120\n",
      "30 * 5 = 150\n",
      "30 * 6 = 180\n",
      "30 * 7 = 210\n",
      "30 * 8 = 240\n",
      "30 * 9 = 270\n",
      "30 * 10 = 300\n"
     ]
    }
   ],
   "source": [
    "a=30\n",
    "for i in range(1,11) :\n",
    "    print(a,\"*\",i,\"=\",a*i)\n",
    "    "
   ]
  },
  {
   "cell_type": "code",
   "execution_count": 16,
   "id": "40b5045b",
   "metadata": {},
   "outputs": [
    {
     "name": "stdout",
     "output_type": "stream",
     "text": [
      "yes it is there\n"
     ]
    }
   ],
   "source": [
    "a=\"today is sunday and we are in tgc\"\n",
    "if \"tgc\" in a:\n",
    "    print(\"yes it is there\")\n",
    "else:\n",
    "    print(\"no\")"
   ]
  },
  {
   "cell_type": "code",
   "execution_count": 5,
   "id": "77ea2465",
   "metadata": {},
   "outputs": [
    {
     "name": "stdout",
     "output_type": "stream",
     "text": [
      "<class 'set'>\n",
      "[0, 'python', 2, 3, (4, 5), 90]\n",
      "[0, 'python', 2, 3, (4, 5), 90]\n",
      "{0, 2, 3, 'python', (4, 5), 90}\n"
     ]
    }
   ],
   "source": [
    "#sets\n",
    "  #no duplicate\n",
    "  #unordered\n",
    "  #no changes\n",
    "a={1,2,3,(4,5),90,0,90}\n",
    "print (type (a))\n",
    "# a[1]=\"python\"\n",
    "print(b)\n",
    "b=list(a)\n",
    "b[1]=\"python\"\n",
    "print(b)\n",
    "c=set(b)\n",
    "print(c)\n",
    "    "
   ]
  },
  {
   "cell_type": "code",
   "execution_count": 7,
   "id": "1697e527",
   "metadata": {},
   "outputs": [
    {
     "name": "stdout",
     "output_type": "stream",
     "text": [
      "{1, 2, 3, 4, 5}\n"
     ]
    }
   ],
   "source": [
    "a={1,2,3,3,4,3,5}\n",
    "print(a)"
   ]
  },
  {
   "cell_type": "code",
   "execution_count": 8,
   "id": "b436d663",
   "metadata": {},
   "outputs": [
    {
     "name": "stdout",
     "output_type": "stream",
     "text": [
      "{1, 2, 3, 4, 6}\n"
     ]
    }
   ],
   "source": [
    "#methods\n",
    "a={1,2,3,4}\n",
    "a.add(6)\n",
    "print(a)"
   ]
  },
  {
   "cell_type": "code",
   "execution_count": 9,
   "id": "28174d01",
   "metadata": {},
   "outputs": [
    {
     "name": "stdout",
     "output_type": "stream",
     "text": [
      "{1, 2, 3, 5, 6, 7, 8, 9}\n",
      "{1, 2, 3, 5, 6, 7, 8, 9}\n"
     ]
    }
   ],
   "source": [
    "d={9,8,7,6}\n",
    "b={1,2,3,5}\n",
    "d.update(b)\n",
    "b.update(d)\n",
    "print(b)\n",
    "print(d)"
   ]
  },
  {
   "cell_type": "code",
   "execution_count": 13,
   "id": "06916275",
   "metadata": {},
   "outputs": [
    {
     "name": "stdout",
     "output_type": "stream",
     "text": [
      "{'c', 'a', 'r', 'b', 'z', 'f', 'p', 'd', 'g', 'j'}\n",
      "{'c', 'a', 'b', 'd', 'g'}\n",
      "{'c', 'a', 'r', 'b', 'z', 'f', 'p', 'd', 'g', 'j'}\n"
     ]
    }
   ],
   "source": [
    "a={\"a\",\"b\",\"c\",\"d\",\"g\"}\n",
    "b={\"r\",\"f\",\"j\",\"p\",\"z\"}\n",
    "a.update(b)\n",
    "print(a)\n",
    "d=a.difference(b)\n",
    "print(d)#difference\n",
    "c=b.intersection\n",
    "print(a)"
   ]
  },
  {
   "cell_type": "code",
   "execution_count": 1,
   "id": "7bcb1892",
   "metadata": {},
   "outputs": [
    {
     "name": "stdout",
     "output_type": "stream",
     "text": [
      "True\n",
      "False\n"
     ]
    }
   ],
   "source": [
    "#set method\n",
    "x={1,2,3,4}\n",
    "y={5,6,7,8}\n",
    "print(x.isdisjoint(y))#if no number are same then true\n",
    "a={1,2,3,4}\n",
    "b={1,2,5,6}\n",
    "print(a.isdisjoint(b))#if no. are same then false"
   ]
  },
  {
   "cell_type": "code",
   "execution_count": 3,
   "id": "4e2e0311",
   "metadata": {},
   "outputs": [
    {
     "name": "stdout",
     "output_type": "stream",
     "text": [
      "{1, 3, 4}\n",
      "{3, 4}\n"
     ]
    }
   ],
   "source": [
    "a={1,2,3,4}\n",
    "a.remove(2)\n",
    "print(a)\n",
    "a.pop()#first move \n",
    "print(a)"
   ]
  },
  {
   "cell_type": "code",
   "execution_count": 17,
   "id": "d0ce4434",
   "metadata": {},
   "outputs": [
    {
     "name": "stdout",
     "output_type": "stream",
     "text": [
      "please enter a number9\n",
      "9 not prime\n",
      "9 not prime\n"
     ]
    }
   ],
   "source": [
    "n=int(input(\"please enter a number\"))\n",
    "if n>1:\n",
    "    #number is greater then 1\n",
    "    for i in range(2,int(n/2)+1):\n",
    "        #if number are divisible by 2 and n/2 then its not prime \n",
    "        if (n%i)==0:\n",
    "            print(n,\"not prime\")\n",
    "            break\n",
    "        else:\n",
    "            print(n,\"not prime\")\n",
    "else:\n",
    "   print(n,\"not prime\")    "
   ]
  },
  {
   "cell_type": "code",
   "execution_count": 10,
   "id": "697e64f1",
   "metadata": {},
   "outputs": [
    {
     "name": "stdout",
     "output_type": "stream",
     "text": [
      "<class 'set'>\n",
      "enteran item to be added into the set ; a\n",
      "enteran item to be added into the set ; ss\n",
      "enteran item to be added into the set ; dd\n",
      "enteran item to be added into the set ; f\n",
      "enteran item to be added into the set ; g\n",
      "enteran item to be added into the set ; h\n",
      "enter an item to be added into:\n",
      "enter an item to be added into:h\n",
      "enter an item to be added into:h\n",
      "enter an item to be added into:f\n",
      "enter an item to be added into:r\n",
      "enter an item to be added into:e\n",
      "{'f', 'dd', 'g', 'a', 'ss', 'h'}\n",
      "{'', 'f', 'r', 'e', 'h'}\n"
     ]
    }
   ],
   "source": [
    "# create a two empty sets and add atleast 6 item using input function\n",
    "\n",
    "x=set()#for assiging an empty set\n",
    "print(type(x))\n",
    "\n",
    "for i in range(6):\n",
    "    item=input(\"enteran item to be added into the set ; \")\n",
    "    x.add(item)\n",
    " \n",
    "y=set() #for assigning an empty set\n",
    "               \n",
    "for i in range(6):\n",
    "   #item=int(input(\"enter an item to be added into the set:\"))\n",
    "    item=input(\"enter an item to be added into:\") \n",
    "    y.add(item)\n",
    "print(x)\n",
    "print(y)             "
   ]
  },
  {
   "cell_type": "raw",
   "id": "ea32d949",
   "metadata": {},
   "source": [
    "#dictionaries (key,value)\n",
    "\n",
    "a={\"a\":1,\"b\":2}\n",
    "print type(a))\n",
    "print(a.key))\n",
    "print(a.value())\n",
    "#way of writting a dict\n",
    "a=dicta(a=1,b=1,c=2)\n",
    "print(a)\n",
    "b=dict([\"a\",1),(\"b\",2])\n",
    "print(b)\n"
   ]
  },
  {
   "cell_type": "code",
   "execution_count": 18,
   "id": "94ca87c7",
   "metadata": {},
   "outputs": [
    {
     "name": "stdout",
     "output_type": "stream",
     "text": [
      "<class 'dict'>\n",
      "dict_keys(['a', 'b'])\n",
      "dict_values([1, 2])\n",
      "{'a': 1, 'b': 1, 'c': 2}\n",
      "{'a': 1, 'b': 2}\n"
     ]
    }
   ],
   "source": [
    "#dictionaries (key,value)\n",
    "\n",
    "a={\"a\":1,\"b\":2}\n",
    "print (type(a))\n",
    "print(a.keys())\n",
    "print(a.values())\n",
    "#way of writting a dict\n",
    "a=dict(a=1,b=1,c=2)\n",
    "print(a)\n",
    "b=dict([(\"a\",1),(\"b\",2)])\n",
    "print(b)\n"
   ]
  },
  {
   "cell_type": "code",
   "execution_count": 12,
   "id": "2bab5104",
   "metadata": {},
   "outputs": [
    {
     "name": "stdout",
     "output_type": "stream",
     "text": [
      "dict_keys(['c', 'd'])\n",
      "dict_values([3, 4])\n",
      "dict_items([('c', 3), ('d', 4)])\n",
      "{'a': 1, 'b': 2, 'c': 3, 'd': 4}\n",
      "{'b': 2, 'c': 3, 'd': 4}\n",
      "{'b': 2, 'c': 3}\n",
      "{'b': 2, 'c': 3, 1: 'a'}\n"
     ]
    }
   ],
   "source": [
    "\n",
    "a={\"a\":1,\"b\":2}\n",
    "b={\"c\":3,\"d\":4}\n",
    "#a.clear\n",
    "#print(a)\n",
    "c=b.keys()\n",
    "print(c)\n",
    "d=b.values()\n",
    "print(d)\n",
    "e=b.items()\n",
    "print(e)\n",
    "a.update(b)\n",
    "print(a)\n",
    "a.pop(\"a\")#remove\n",
    "print(a)\n",
    "a.popitem() #last remove\n",
    "print(a)\n",
    "a.setdefault(1,\"a\")#add at the end\n",
    "print(a)"
   ]
  },
  {
   "cell_type": "code",
   "execution_count": 13,
   "id": "83d3b699",
   "metadata": {},
   "outputs": [
    {
     "name": "stdout",
     "output_type": "stream",
     "text": [
      "3\n"
     ]
    }
   ],
   "source": [
    "def add(a,b):\n",
    "    return a+b\n",
    "print(add(1,2))"
   ]
  },
  {
   "cell_type": "code",
   "execution_count": 15,
   "id": "b8409107",
   "metadata": {},
   "outputs": [
    {
     "name": "stdout",
     "output_type": "stream",
     "text": [
      "-1\n"
     ]
    }
   ],
   "source": [
    "def sub(a,b):\n",
    "    return a-b\n",
    "print(sub(1,2))    "
   ]
  },
  {
   "cell_type": "code",
   "execution_count": 17,
   "id": "bbbd483b",
   "metadata": {},
   "outputs": [
    {
     "name": "stdout",
     "output_type": "stream",
     "text": [
      "15625\n"
     ]
    }
   ],
   "source": [
    "def power(a,b):\n",
    "    return a**b\n",
    "print(power(5,6))"
   ]
  },
  {
   "cell_type": "code",
   "execution_count": 26,
   "id": "1bbb477f",
   "metadata": {},
   "outputs": [
    {
     "name": "stdout",
     "output_type": "stream",
     "text": [
      "equal\n"
     ]
    }
   ],
   "source": [
    "def statements(x,y):\n",
    "    if x==y:\n",
    "        print(\"equal\")\n",
    "statements(7,7)"
   ]
  },
  {
   "cell_type": "code",
   "execution_count": 1,
   "id": "b9a88848",
   "metadata": {},
   "outputs": [
    {
     "name": "stdout",
     "output_type": "stream",
     "text": [
      "not equal\n"
     ]
    }
   ],
   "source": [
    "def statements(a,b):\n",
    "    if a>=b:\n",
    "        print(\"equal\") \n",
    "  #  else:\n",
    "print(\"not equal\")\n",
    "statements(6,7)"
   ]
  },
  {
   "cell_type": "code",
   "execution_count": 3,
   "id": "a0b31339",
   "metadata": {},
   "outputs": [
    {
     "name": "stdout",
     "output_type": "stream",
     "text": [
      "greater\n"
     ]
    }
   ],
   "source": [
    "#statement\n",
    "def statements(a,b):\n",
    "    if a==b:\n",
    "        print(\"same\")\n",
    "    elif a<b:\n",
    "        print(\"greater\")\n",
    "    else:\n",
    "        print(\"not same\")\n",
    "statements(3,4)        "
   ]
  },
  {
   "cell_type": "code",
   "execution_count": 6,
   "id": "54fb142c",
   "metadata": {},
   "outputs": [
    {
     "name": "stdout",
     "output_type": "stream",
     "text": [
      "my firstname ispython and lastname isdata science\n"
     ]
    }
   ],
   "source": [
    "#formating methods in function\n",
    "def fullname(firstname,lastname):\n",
    "    return f\"my firstname is{firstname} and lastname is{lastname}\"\n",
    "print(fullname(\"python\",\"data science\"))"
   ]
  },
  {
   "cell_type": "code",
   "execution_count": 26,
   "id": "90d130fb",
   "metadata": {},
   "outputs": [
    {
     "name": "stdout",
     "output_type": "stream",
     "text": [
      "what is your name?h\n",
      "number of student6\n",
      "what is the age of person/student7\n",
      "how many section are there?5\n",
      "name of a person is: h ,number of student are: 6 ,age of person is: 7 ,number of section are: 5\n"
     ]
    }
   ],
   "source": [
    "def a(name,student,age,section):\n",
    "    print(\"name of a person is:\",name,\",number of student are:\",student,\",age of person is:\",age,\",number of section are:\",section)\n",
    "x=input(\"what is your name?\")\n",
    "y=int(input(\"number of student\"))\n",
    "z=int(input(\"what is the age of person/student\"))\n",
    "w=input(\"how many section are there?\")      \n",
    "a(x,y,z,w)     "
   ]
  },
  {
   "cell_type": "code",
   "execution_count": 29,
   "id": "bc2f070d",
   "metadata": {},
   "outputs": [
    {
     "name": "stdout",
     "output_type": "stream",
     "text": [
      "3\n",
      "invalid input\n"
     ]
    }
   ],
   "source": [
    "#calculator using function\n",
    "def calculator(a,b,op):\n",
    "    if op==\"sum\":\n",
    "        return a+b\n",
    "    elif op==\"sub\":\n",
    "        return a-b\n",
    "    elif op==\"mul\":\n",
    "        return a*b\n",
    "    elif op==\"div\":\n",
    "        return a/b\n",
    "    else:\n",
    "        return\"invalid input\"\n",
    "    exit=input(\"do you to exit?\")\n",
    "    if exit==\"yes\":\n",
    "        return true\n",
    "    else:\n",
    "        return false\n",
    "print(calculator(1,2,\"sum\"))\n",
    "print(calculator(1,2,\"yup\"))"
   ]
  },
  {
   "cell_type": "code",
   "execution_count": 9,
   "id": "1878d02b",
   "metadata": {},
   "outputs": [
    {
     "ename": "TypeError",
     "evalue": "unsupported operand type(s) for *: 'int' and 'NoneType'",
     "output_type": "error",
     "traceback": [
      "\u001b[1;31m---------------------------------------------------------------------------\u001b[0m",
      "\u001b[1;31mTypeError\u001b[0m                                 Traceback (most recent call last)",
      "Cell \u001b[1;32mIn[9], line 5\u001b[0m\n\u001b[0;32m      2\u001b[0m     \u001b[38;5;28;01mif\u001b[39;00m(a\u001b[38;5;241m!=\u001b[39m\u001b[38;5;241m1\u001b[39m):\n\u001b[0;32m      3\u001b[0m         \u001b[38;5;28;01mreturn\u001b[39;00m a\u001b[38;5;241m*\u001b[39mFactorial(a\u001b[38;5;241m-\u001b[39m\u001b[38;5;241m1\u001b[39m)\n\u001b[1;32m----> 5\u001b[0m \u001b[38;5;28mprint\u001b[39m(Factorial(\u001b[38;5;241m4\u001b[39m))\n",
      "Cell \u001b[1;32mIn[9], line 3\u001b[0m, in \u001b[0;36mFactorial\u001b[1;34m(a)\u001b[0m\n\u001b[0;32m      1\u001b[0m \u001b[38;5;28;01mdef\u001b[39;00m \u001b[38;5;21mFactorial\u001b[39m(a):\n\u001b[0;32m      2\u001b[0m     \u001b[38;5;28;01mif\u001b[39;00m(a\u001b[38;5;241m!=\u001b[39m\u001b[38;5;241m1\u001b[39m):\n\u001b[1;32m----> 3\u001b[0m         \u001b[38;5;28;01mreturn\u001b[39;00m a\u001b[38;5;241m*\u001b[39mFactorial(a\u001b[38;5;241m-\u001b[39m\u001b[38;5;241m1\u001b[39m)\n",
      "Cell \u001b[1;32mIn[9], line 3\u001b[0m, in \u001b[0;36mFactorial\u001b[1;34m(a)\u001b[0m\n\u001b[0;32m      1\u001b[0m \u001b[38;5;28;01mdef\u001b[39;00m \u001b[38;5;21mFactorial\u001b[39m(a):\n\u001b[0;32m      2\u001b[0m     \u001b[38;5;28;01mif\u001b[39;00m(a\u001b[38;5;241m!=\u001b[39m\u001b[38;5;241m1\u001b[39m):\n\u001b[1;32m----> 3\u001b[0m         \u001b[38;5;28;01mreturn\u001b[39;00m a\u001b[38;5;241m*\u001b[39mFactorial(a\u001b[38;5;241m-\u001b[39m\u001b[38;5;241m1\u001b[39m)\n",
      "Cell \u001b[1;32mIn[9], line 3\u001b[0m, in \u001b[0;36mFactorial\u001b[1;34m(a)\u001b[0m\n\u001b[0;32m      1\u001b[0m \u001b[38;5;28;01mdef\u001b[39;00m \u001b[38;5;21mFactorial\u001b[39m(a):\n\u001b[0;32m      2\u001b[0m     \u001b[38;5;28;01mif\u001b[39;00m(a\u001b[38;5;241m!=\u001b[39m\u001b[38;5;241m1\u001b[39m):\n\u001b[1;32m----> 3\u001b[0m         \u001b[38;5;28;01mreturn\u001b[39;00m a\u001b[38;5;241m*\u001b[39mFactorial(a\u001b[38;5;241m-\u001b[39m\u001b[38;5;241m1\u001b[39m)\n",
      "\u001b[1;31mTypeError\u001b[0m: unsupported operand type(s) for *: 'int' and 'NoneType'"
     ]
    }
   ],
   "source": [
    "def Factorial(a):\n",
    "    if(a!=1):\n",
    "        return a*Factorial(a-1)\n",
    "    \n",
    "print(Factorial(4))"
   ]
  },
  {
   "cell_type": "code",
   "execution_count": 13,
   "id": "447abd8d",
   "metadata": {},
   "outputs": [
    {
     "name": "stdout",
     "output_type": "stream",
     "text": [
      "abc\n"
     ]
    }
   ],
   "source": [
    "#local\n",
    "def foo():\n",
    "    y=\"abc\" #Normally,we declare a variable inside the function yo create a local variable.\n",
    "    print(y)\n",
    "foo()"
   ]
  },
  {
   "cell_type": "code",
   "execution_count": 14,
   "id": "8a338b3a",
   "metadata": {},
   "outputs": [
    {
     "name": "stdout",
     "output_type": "stream",
     "text": [
      "local\n",
      "nonlocal\n"
     ]
    }
   ],
   "source": [
    "#non local \n",
    "# example 6:create a non local variable\n",
    "def outer():\n",
    "    x=\"local\"\n",
    "    print(x)\n",
    "    def inner():\n",
    "        x=\"nonlocal\"\n",
    "        print(x)\n",
    "    inner()\n",
    "outer()"
   ]
  },
  {
   "cell_type": "code",
   "execution_count": null,
   "id": "f046b97d",
   "metadata": {},
   "outputs": [],
   "source": []
  }
 ],
 "metadata": {
  "kernelspec": {
   "display_name": "Python 3 (ipykernel)",
   "language": "python",
   "name": "python3"
  },
  "language_info": {
   "codemirror_mode": {
    "name": "ipython",
    "version": 3
   },
   "file_extension": ".py",
   "mimetype": "text/x-python",
   "name": "python",
   "nbconvert_exporter": "python",
   "pygments_lexer": "ipython3",
   "version": "3.11.3"
  }
 },
 "nbformat": 4,
 "nbformat_minor": 5
}
